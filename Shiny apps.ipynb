{
 "cells": [
  {
   "cell_type": "markdown",
   "metadata": {},
   "source": [
    "# Shiny\n",
    "\n",
    "`shiny`  es una librería para crear interfases de usuario en R, las cuales corren en una ventana del navegador de internet. `shiny` es desarrollado y mantenido por RStudio.\n",
    "\n",
    "\n",
    "## Pasos preliminares\n",
    "\n",
    "* `Shiny` puede ser invocado como una libreria dentro de RStudio, verifique que se encuentra instalada en su estacion de trabajo\n",
    "\n",
    "* Una vez instalada, corra el siguiente codigo:\n",
    "Por tratarse de aplicaciones web, Shiny utilizará un servidor para desplegar los desarrollos"
   ]
  },
  {
   "cell_type": "code",
   "execution_count": 2,
   "metadata": {},
   "outputs": [
    {
     "name": "stderr",
     "output_type": "stream",
     "text": [
      "\n",
      "Listening on http://127.0.0.1:5714\n"
     ]
    }
   ],
   "source": [
    "library('shiny')\n",
    "\n",
    "runExample('01_hello')"
   ]
  },
  {
   "cell_type": "markdown",
   "metadata": {},
   "source": [
    "Tambien podemos ver otros ejemplos cercanos a HTML"
   ]
  },
  {
   "cell_type": "code",
   "execution_count": 9,
   "metadata": {
    "scrolled": true
   },
   "outputs": [
    {
     "name": "stderr",
     "output_type": "stream",
     "text": [
      "\n",
      "Listening on http://127.0.0.1:5714\n"
     ]
    }
   ],
   "source": [
    "runExample('08_html')"
   ]
  },
  {
   "cell_type": "markdown",
   "metadata": {},
   "source": [
    "Para conocer todos los ejemplos predeterminados y descubrir las posibilidades con Shiny, ejecute el comando:"
   ]
  },
  {
   "cell_type": "code",
   "execution_count": 13,
   "metadata": {},
   "outputs": [
    {
     "name": "stderr",
     "output_type": "stream",
     "text": [
      "Valid examples are \"01_hello\", \"02_text\", \"03_reactivity\", \"04_mpg\", \"05_sliders\", \"06_tabsets\", \"07_widgets\", \"08_html\", \"09_upload\", \"10_download\", \"11_timer\"\n"
     ]
    }
   ],
   "source": [
    "runExample()"
   ]
  },
  {
   "cell_type": "markdown",
   "metadata": {},
   "source": [
    "# Estructura de codigo\n",
    "\n",
    "## ui.R\n",
    "\n",
    "Contiene todos los elementos para la interaccion de los usuarios de la aplicacion\n",
    "\n",
    "\n",
    "## server.R\n",
    "\n",
    "Contiene el codigo, la manipulacion de datos y la ejecucion de tareas que pueden ejecutarse en la aplicacion\n",
    "\n",
    "# Pasos para crear una Shiny app\n",
    "\n",
    "1. Abrir RStudio\n",
    "2. Archivo>Nuevo>Shiny app\n",
    "3. Seleccione el tipo de aplicacion: Archivo Unico (App.R / Multiples archivos (ui.R y server.R)\n",
    "4. Seleccione la ubicacion de la carpeta del proyecto\n",
    "\n",
    "En este momento se ha creado una plantilla para ejecutar un ejemplo. \n",
    "\n",
    "Para probar el ejemplo, ejecute el boton **`Correr aplicacion`**. La aplicacion debe abrir en una ventana del navegador.\n",
    "\n",
    "\n",
    "## Nota ##\n",
    "\n",
    "Se debe asegurar que tanto el ui.R como el server.R se encuentren ubicados en la misma carpeta antes de ejecutar la aplicacion y que el directorio de trabajo sea dicha carpeta.\n",
    "\n"
   ]
  },
  {
   "cell_type": "markdown",
   "metadata": {},
   "source": [
    "# Ejemplo\n",
    "\n",
    "Podemos correr el siguiente ejemplo para ver el resultado de una aplicacion:\n"
   ]
  },
  {
   "cell_type": "code",
   "execution_count": 15,
   "metadata": {},
   "outputs": [
    {
     "name": "stderr",
     "output_type": "stream",
     "text": [
      "Downloading https://github.com/ChrisBeeley/GoogleAnalytics/archive/master.tar.gz\n",
      "\n",
      "Listening on http://127.0.0.1:5714\n",
      "Warning message:\n",
      "“Error in seq.int: 'to' cannot be NA, NaN or infinite”Warning message:\n",
      "“Error in seq.int: 'to' cannot be NA, NaN or infinite”`geom_smooth()` using method = 'loess' and formula 'y ~ x'\n",
      "`geom_smooth()` using method = 'loess' and formula 'y ~ x'\n",
      "`geom_smooth()` using method = 'loess' and formula 'y ~ x'\n",
      "`geom_smooth()` using method = 'loess' and formula 'y ~ x'\n",
      "Warning message in simpleLoess(y, x, w, span, degree = degree, parametric = parametric, :\n",
      "“span too small.   fewer data values than degrees of freedom.”Warning message in simpleLoess(y, x, w, span, degree = degree, parametric = parametric, :\n",
      "“at  15894”Warning message in simpleLoess(y, x, w, span, degree = degree, parametric = parametric, :\n",
      "“radius  0.0009”Warning message in simpleLoess(y, x, w, span, degree = degree, parametric = parametric, :\n",
      "“all data on boundary of neighborhood. make span bigger”Warning message in simpleLoess(y, x, w, span, degree = degree, parametric = parametric, :\n",
      "“pseudoinverse used at 15894”Warning message in simpleLoess(y, x, w, span, degree = degree, parametric = parametric, :\n",
      "“neighborhood radius 0.03”Warning message in simpleLoess(y, x, w, span, degree = degree, parametric = parametric, :\n",
      "“reciprocal condition number  1”Warning message in simpleLoess(y, x, w, span, degree = degree, parametric = parametric, :\n",
      "“at  15900”Warning message in simpleLoess(y, x, w, span, degree = degree, parametric = parametric, :\n",
      "“radius  0.0009”Warning message in simpleLoess(y, x, w, span, degree = degree, parametric = parametric, :\n",
      "“all data on boundary of neighborhood. make span bigger”Warning message in simpleLoess(y, x, w, span, degree = degree, parametric = parametric, :\n",
      "“There are other near singularities as well. 0.0009”Warning message in simpleLoess(y, x, w, span, degree = degree, parametric = parametric, :\n",
      "“zero-width neighborhood. make span bigger”Warning message in simpleLoess(y, x, w, span, degree = degree, parametric = parametric, :\n",
      "“zero-width neighborhood. make span bigger”Warning message:\n",
      "“Computation failed in `stat_smooth()`:\n",
      "NA/NaN/Inf in foreign function call (arg 5)”`geom_smooth()` using method = 'loess' and formula 'y ~ x'\n"
     ]
    }
   ],
   "source": [
    "runGitHub(\"GoogleAnalytics\", \"ChrisBeeley\")"
   ]
  },
  {
   "cell_type": "code",
   "execution_count": null,
   "metadata": {
    "collapsed": true
   },
   "outputs": [],
   "source": []
  }
 ],
 "metadata": {
  "kernelspec": {
   "display_name": "R",
   "language": "R",
   "name": "ir"
  },
  "language_info": {
   "codemirror_mode": "r",
   "file_extension": ".r",
   "mimetype": "text/x-r-source",
   "name": "R",
   "pygments_lexer": "r",
   "version": "3.3.3"
  }
 },
 "nbformat": 4,
 "nbformat_minor": 2
}
